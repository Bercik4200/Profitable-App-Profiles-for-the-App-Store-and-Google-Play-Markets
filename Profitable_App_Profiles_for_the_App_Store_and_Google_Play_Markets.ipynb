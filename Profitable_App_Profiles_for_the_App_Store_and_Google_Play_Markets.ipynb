{
  "nbformat": 4,
  "nbformat_minor": 0,
  "metadata": {
    "colab": {
      "provenance": [],
      "authorship_tag": "ABX9TyOA9nGCSiNDFkXX+Qyxf+sY",
      "include_colab_link": true
    },
    "kernelspec": {
      "name": "python3",
      "display_name": "Python 3"
    },
    "language_info": {
      "name": "python"
    }
  },
  "cells": [
    {
      "cell_type": "markdown",
      "metadata": {
        "id": "view-in-github",
        "colab_type": "text"
      },
      "source": [
        "<a href=\"https://colab.research.google.com/github/Bercik4200/Profitable-App-Profiles-for-the-App-Store-and-Google-Play-Markets/blob/main/Profitable_App_Profiles_for_the_App_Store_and_Google_Play_Markets.ipynb\" target=\"_parent\"><img src=\"https://colab.research.google.com/assets/colab-badge.svg\" alt=\"Open In Colab\"/></a>"
      ]
    },
    {
      "cell_type": "code",
      "execution_count": 1,
      "metadata": {
        "id": "oiWCgG_i_hG3"
      },
      "outputs": [],
      "source": [
        "from csv import reader"
      ]
    },
    {
      "cell_type": "code",
      "source": [
        "#Google Play dataset\n",
        "open_file = open(\"googleplaystore.csv\")\n",
        "read_file = reader(open_file)\n",
        "android = list(read_file)\n",
        "android_header = android[0]\n",
        "android = android[1:]"
      ],
      "metadata": {
        "id": "668DwZ1nAAj_"
      },
      "execution_count": 5,
      "outputs": []
    },
    {
      "cell_type": "code",
      "source": [
        "#Google Play dataset\n",
        "open_file = open(\"AppleStore.csv\")\n",
        "read_file = reader(open_file)\n",
        "ios = list(read_file)\n",
        "ios_header = ios[0]\n",
        "ios = ios[1:]"
      ],
      "metadata": {
        "id": "2WNgvrRZAzMw"
      },
      "execution_count": 8,
      "outputs": []
    },
    {
      "cell_type": "code",
      "source": [
        "def explore_data(dataset, start, end, rows_and_columns=False):\n",
        "  dataset_slice = dataset[start:end]\n",
        "  for row in dataset_slice:\n",
        "    print(row)\n",
        "    print('\\n')\n",
        "    if rows_and_columns:\n",
        "      print(\"Number of rows: \", len(dataset_slice))\n",
        "      print(\"Number of columns: \", len(dataset_slice[0]))"
      ],
      "metadata": {
        "id": "oVr8uhYcBX5R"
      },
      "execution_count": 12,
      "outputs": []
    },
    {
      "cell_type": "code",
      "source": [
        "print(android_header)"
      ],
      "metadata": {
        "colab": {
          "base_uri": "https://localhost:8080/"
        },
        "id": "ataTPZTgCb1g",
        "outputId": "d1d1bd71-db32-4e8a-fa37-6f335d763c5a"
      },
      "execution_count": 16,
      "outputs": [
        {
          "output_type": "stream",
          "name": "stdout",
          "text": [
            "['App', 'Category', 'Rating', 'Reviews', 'Size', 'Installs', 'Type', 'Price', 'Content Rating', 'Genres', 'Last Updated', 'Current Ver', 'Android Ver']\n"
          ]
        }
      ]
    },
    {
      "cell_type": "code",
      "source": [
        "explore_data(android, 0, 3, True)"
      ],
      "metadata": {
        "colab": {
          "base_uri": "https://localhost:8080/"
        },
        "id": "llm7S_Y4Dlyi",
        "outputId": "33feef5e-5c07-4e70-f820-41595e6b1fae"
      },
      "execution_count": 18,
      "outputs": [
        {
          "output_type": "stream",
          "name": "stdout",
          "text": [
            "['Photo Editor & Candy Camera & Grid & ScrapBook', 'ART_AND_DESIGN', '4.1', '159', '19M', '10,000+', 'Free', '0', 'Everyone', 'Art & Design', 'January 7, 2018', '1.0.0', '4.0.3 and up']\n",
            "\n",
            "\n",
            "Number of rows:  3\n",
            "Number of columns:  13\n",
            "['Coloring book moana', 'ART_AND_DESIGN', '3.9', '967', '14M', '500,000+', 'Free', '0', 'Everyone', 'Art & Design;Pretend Play', 'January 15, 2018', '2.0.0', '4.0.3 and up']\n",
            "\n",
            "\n",
            "Number of rows:  3\n",
            "Number of columns:  13\n",
            "['U Launcher Lite – FREE Live Cool Themes, Hide Apps', 'ART_AND_DESIGN', '4.7', '87510', '8.7M', '5,000,000+', 'Free', '0', 'Everyone', 'Art & Design', 'August 1, 2018', '1.2.4', '4.0.3 and up']\n",
            "\n",
            "\n",
            "Number of rows:  3\n",
            "Number of columns:  13\n"
          ]
        }
      ]
    },
    {
      "cell_type": "code",
      "source": [
        "print(ios_header)"
      ],
      "metadata": {
        "colab": {
          "base_uri": "https://localhost:8080/"
        },
        "id": "djecnlXNDWm8",
        "outputId": "4d871367-4023-46f4-d2a6-4b9f324f713f"
      },
      "execution_count": 17,
      "outputs": [
        {
          "output_type": "stream",
          "name": "stdout",
          "text": [
            "['id', 'track_name', 'size_bytes', 'currency', 'price', 'rating_count_tot', 'rating_count_ver', 'user_rating', 'user_rating_ver', 'ver', 'cont_rating', 'prime_genre', 'sup_devices.num', 'ipadSc_urls.num', 'lang.num', 'vpp_lic']\n"
          ]
        }
      ]
    },
    {
      "cell_type": "code",
      "source": [
        "duplicate_apps = []\n",
        "unique_apps = []\n",
        "\n",
        "for app in android:\n",
        "    name = app[0]\n",
        "    if name in unique_apps:\n",
        "      duplicate_apps.append(name)\n",
        "    else:\n",
        "      unique_apps.append(name)\n",
        "\n",
        "print(\"Number of duplicate apps\", len(duplicate_apps))\n",
        "print(\"\\n\")\n",
        "print(\"Examples of duplicate apps\", duplicate_apps[:15])"
      ],
      "metadata": {
        "colab": {
          "base_uri": "https://localhost:8080/"
        },
        "id": "7IusZTN3iqNA",
        "outputId": "9fb4f2e3-5123-4b4c-e0ad-74585c57525d"
      },
      "execution_count": 24,
      "outputs": [
        {
          "output_type": "stream",
          "name": "stdout",
          "text": [
            "Number of duplicate apps 1181\n",
            "\n",
            "\n",
            "Examples of duplicate apps ['Quick PDF Scanner + OCR FREE', 'Box', 'Google My Business', 'ZOOM Cloud Meetings', 'join.me - Simple Meetings', 'Box', 'Zenefits', 'Google Ads', 'Google My Business', 'Slack', 'FreshBooks Classic', 'Insightly CRM', 'QuickBooks Accounting: Invoicing & Expenses', 'HipChat - Chat Built for Teams', 'Xero Accounting Software']\n"
          ]
        }
      ]
    },
    {
      "cell_type": "markdown",
      "source": [
        "We have to delete the duplicated apps, but I don't want to remove rows randomly.\n",
        "I will create a dictionary based on reviews, because we can see for the Instagram app, the main difference happens on the fourth position of each row, which corresponds to the number of reviews.\n"
      ],
      "metadata": {
        "id": "oJ1BwiDKkMq-"
      }
    },
    {
      "cell_type": "code",
      "source": [
        "for app in android:\n",
        "    name = app[0]\n",
        "    if name == 'Instagram':\n",
        "        print(app)"
      ],
      "metadata": {
        "colab": {
          "base_uri": "https://localhost:8080/"
        },
        "id": "rbXEdWXzkkuZ",
        "outputId": "5d22d1d3-acf2-4daf-a648-194ead8ae66b"
      },
      "execution_count": 25,
      "outputs": [
        {
          "output_type": "stream",
          "name": "stdout",
          "text": [
            "['Instagram', 'SOCIAL', '4.5', '66577313', 'Varies with device', '1,000,000,000+', 'Free', '0', 'Teen', 'Social', 'July 31, 2018', 'Varies with device', 'Varies with device']\n",
            "['Instagram', 'SOCIAL', '4.5', '66577446', 'Varies with device', '1,000,000,000+', 'Free', '0', 'Teen', 'Social', 'July 31, 2018', 'Varies with device', 'Varies with device']\n",
            "['Instagram', 'SOCIAL', '4.5', '66577313', 'Varies with device', '1,000,000,000+', 'Free', '0', 'Teen', 'Social', 'July 31, 2018', 'Varies with device', 'Varies with device']\n",
            "['Instagram', 'SOCIAL', '4.5', '66509917', 'Varies with device', '1,000,000,000+', 'Free', '0', 'Teen', 'Social', 'July 31, 2018', 'Varies with device', 'Varies with device']\n"
          ]
        }
      ]
    },
    {
      "cell_type": "code",
      "source": [
        "#Dictionary\n",
        "reviews_max = {}\n",
        "\n",
        "def convert_reviews(reviews):\n",
        "    # Check if the review count ends with 'M' (for million)\n",
        "    if 'M' in reviews:\n",
        "        return float(reviews.replace('M', '')) * 1_000_000\n",
        "    else:\n",
        "        return float(reviews)\n",
        "\n",
        "for app in android:\n",
        "    name = app[0]\n",
        "    reviews_str = app[3]\n",
        "\n",
        "    try:\n",
        "        n_reviews = convert_reviews(reviews_str)\n",
        "    except ValueError:\n",
        "        print(f\"Skipping app {name} due to invalid reviews: {reviews_str}\")\n",
        "        continue\n",
        "\n",
        "    if name in reviews_max and reviews_max[name] < n_reviews:\n",
        "        reviews_max[name] = n_reviews\n",
        "    elif name not in reviews_max:\n",
        "        reviews_max[name] = n_reviews"
      ],
      "metadata": {
        "id": "vm-gfdsPk6TN"
      },
      "execution_count": 32,
      "outputs": []
    },
    {
      "cell_type": "markdown",
      "source": [
        "In a previous code cell, we found that there are 1,181 cases where an app occurs more than once, so the length of our dictionary (of unique apps) should be equal to the difference between the length of our data set and 1,181."
      ],
      "metadata": {
        "id": "i9PT3WzflnzE"
      }
    },
    {
      "cell_type": "code",
      "source": [
        "print('Expected length:', len(android) - 1181)\n",
        "print('Actual length:', len(reviews_max))"
      ],
      "metadata": {
        "colab": {
          "base_uri": "https://localhost:8080/"
        },
        "id": "cQTcZrOqmHhe",
        "outputId": "334515a6-c333-41b6-b6c2-5c8256f42e14"
      },
      "execution_count": 33,
      "outputs": [
        {
          "output_type": "stream",
          "name": "stdout",
          "text": [
            "Expected length: 9660\n",
            "Actual length: 9660\n"
          ]
        }
      ]
    }
  ]
}